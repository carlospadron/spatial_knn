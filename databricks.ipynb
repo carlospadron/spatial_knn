{
 "cells": [
  {
   "cell_type": "code",
   "execution_count": 0,
   "metadata": {
    "application/vnd.databricks.v1+cell": {
     "cellMetadata": {
      "byteLimit": 2048000,
      "rowLimit": 10000
     },
     "inputWidgets": {},
     "nuid": "d876dba5-142f-4f62-9dc3-c9c69bc877d1",
     "showTitle": false,
     "tableResultSettingsMap": {},
     "title": ""
    }
   },
   "outputs": [
    {
     "output_type": "stream",
     "name": "stderr",
     "output_type": "stream",
     "text": [
      "/root/.ipykernel/1819/command-8347407064833988-1682010426:3: DeprecationWarning: Call to deprecated function registerAll (Deprecated since 1.4.1, use SedonaContext.create() instead.).\n  SedonaRegistrator.registerAll(spark)\n"
     ]
    },
    {
     "output_type": "execute_result",
     "data": {
      "text/plain": [
       "True"
      ]
     },
     "execution_count": 1,
     "metadata": {},
     "output_type": "execute_result"
    }
   ],
   "source": [
    "from pyspark.sql.functions import expr\n",
    "from sedona.register.geo_registrator import SedonaRegistrator\n",
    "SedonaRegistrator.registerAll(spark)"
   ]
  },
  {
   "cell_type": "code",
   "execution_count": 0,
   "metadata": {
    "application/vnd.databricks.v1+cell": {
     "cellMetadata": {
      "byteLimit": 2048000,
      "rowLimit": 10000
     },
     "inputWidgets": {},
     "nuid": "a2f89f04-a9c5-430e-a3f5-469dba094384",
     "showTitle": false,
     "tableResultSettingsMap": {},
     "title": ""
    }
   },
   "outputs": [],
   "source": [
    "column_names = [\"postcode\", \"geom\", \"wkt\"]\n",
    "codepoint = spark.read.csv(\"/Volumes/alpha/default/os/code_point_open_white_horse.csv\", header=False, sep=\"|\").toDF(*column_names)\n",
    "\n",
    "column_names = [\"uprn\", \"easting\", \"northing\", \"lat\", \"lon\", \"geom\", \"wkt\"]\n",
    "uprn = spark.read.csv(\"/Volumes/alpha/default/os/open_uprn_white_horse.csv\", header=False, sep=\"|\").toDF(*column_names)"
   ]
  },
  {
   "cell_type": "code",
   "execution_count": 0,
   "metadata": {
    "application/vnd.databricks.v1+cell": {
     "cellMetadata": {
      "byteLimit": 2048000,
      "rowLimit": 10000
     },
     "inputWidgets": {},
     "nuid": "164130ab-67c1-4f7e-bdfb-7d664e98fe0d",
     "showTitle": false,
     "tableResultSettingsMap": {},
     "title": ""
    }
   },
   "outputs": [],
   "source": [
    "uprn = uprn.withColumn(\"geom\", expr(\"ST_GeomFromWKT(wkt, 27700)\"))\n",
    "uprn.createOrReplaceTempView(\"uprn\")\n",
    "\n",
    "codepoint = codepoint.withColumn(\"geom\", expr(\"ST_GeomFromWKT(wkt, 27700)\"))\n",
    "codepoint.createOrReplaceTempView(\"codepoint\")"
   ]
  },
  {
   "cell_type": "code",
   "execution_count": 0,
   "metadata": {
    "application/vnd.databricks.v1+cell": {
     "cellMetadata": {
      "byteLimit": 2048000,
      "rowLimit": 10000
     },
     "inputWidgets": {},
     "nuid": "0776cb32-6c72-4783-99cb-3acffe748d81",
     "showTitle": false,
     "tableResultSettingsMap": {},
     "title": ""
    }
   },
   "outputs": [],
   "source": [
    "sql = \"\"\"\n",
    "    WITH knn AS (\n",
    "        SELECT \n",
    "            A.uprn as origin,\n",
    "            B.postcode as destination,\n",
    "            round(ST_Distance(A.geom, B.geom),2) as distance,\n",
    "            row_number() OVER (PARTITION BY A.uprn ORDER BY A.uprn,ST_Distance(A.geom, B.geom) ASC, B.postcode) AS rn,\n",
    "            true as is_valid\n",
    "        FROM\n",
    "            uprn A,\n",
    "            codepoint B\n",
    "        WHERE\n",
    "            ST_DWithin(A.geom, B.geom, 5000)\n",
    "        ORDER BY\n",
    "            A.uprn,\n",
    "            ST_Distance(A.geom, B.geom) ASC,\n",
    "            destination\n",
    "    )\n",
    "    SELECT origin, destination, distance FROM knn WHERE rn = 1      \n",
    "\"\"\"\n",
    "knn = spark.sql(sql)"
   ]
  },
  {
   "cell_type": "code",
   "execution_count": 0,
   "metadata": {
    "application/vnd.databricks.v1+cell": {
     "cellMetadata": {
      "byteLimit": 2048000,
      "rowLimit": 10000
     },
     "inputWidgets": {},
     "nuid": "8d678a06-2a47-4dce-960e-8e076ee1eb89",
     "showTitle": false,
     "tableResultSettingsMap": {},
     "title": ""
    }
   },
   "outputs": [
    {
     "output_type": "stream",
     "name": "stdout",
     "output_type": "stream",
     "text": [
      "+------------+-----------+--------+\n|      origin|destination|distance|\n+------------+-----------+--------+\n| 10009424628|    SN6 8LG| 1009.31|\n| 10009424630|   RG17 8RE| 1121.34|\n| 10009424631|   RG17 8RE| 1205.33|\n|100120897368|   OX14 3JD|   32.25|\n|100120897369|   OX14 3JD|     0.0|\n|100120897370|   OX14 3JD|    4.12|\n|100120897371|   OX14 3JD|    9.06|\n|100120897372|   OX14 3JD|   16.03|\n|100120897374|   OX14 2EY|   57.28|\n|100120897375|   OX14 2DY|   53.81|\n|100120897376|   OX14 2EY|    49.2|\n|100120897377|   OX14 2EY|   50.09|\n|100120897378|   OX14 2DT|   36.25|\n|100120897379|   OX14 2EY|   48.27|\n|100120897380|   OX14 2DT|   35.36|\n|100120897381|   OX14 2EY|    50.0|\n|100120897382|   OX14 2DT|   39.85|\n|100120897383|   OX14 2DT|   53.37|\n|100120897384|   OX14 2DT|   46.96|\n|100120897385|   OX14 2DX|   48.37|\n+------------+-----------+--------+\nonly showing top 20 rows\n"
     ]
    }
   ],
   "source": [
    "knn.show()"
   ]
  },
  {
   "cell_type": "code",
   "execution_count": 0,
   "metadata": {
    "application/vnd.databricks.v1+cell": {
     "cellMetadata": {
      "byteLimit": 2048000,
      "rowLimit": 10000
     },
     "inputWidgets": {},
     "nuid": "6908a623-4ec6-49c1-bbb0-abcba6563ec3",
     "showTitle": false,
     "tableResultSettingsMap": {},
     "title": ""
    }
   },
   "outputs": [],
   "source": [
    "# Save the result to the catalog\n",
    "knn.write.mode(\"overwrite\").saveAsTable(\"knn_results\")\n",
    "#save as csv\n",
    "knn.coalesce(1).write.mode(\"overwrite\").csv(\"/Volumes/alpha/default/os/knn_results.csv\", header=True)"
   ]
  }
 ],
 "metadata": {
  "application/vnd.databricks.v1+notebook": {
   "computePreferences": null,
   "dashboards": [],
   "environmentMetadata": {
    "base_environment": "",
    "client": "1"
   },
   "language": "python",
   "notebookMetadata": {
    "pythonIndentUnit": 4
   },
   "notebookName": "knn",
   "widgets": {}
  },
  "language_info": {
   "name": "python"
  }
 },
 "nbformat": 4,
 "nbformat_minor": 0
}